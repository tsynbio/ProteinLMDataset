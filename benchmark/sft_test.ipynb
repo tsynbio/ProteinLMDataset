{
 "cells": [
  {
   "cell_type": "code",
   "source": [
    "import os, json\n",
    "from transformers import AutoTokenizer, AutoModelForCausalLM\n",
    "model_name = 'models--google--gemma-7b-it'\n",
    "QnA_dir_path = 'final_1000_0425_human_checked.json'\n",
    "with open(QnA_dir_path, 'r') as f:\n",
    "    file_data = json.load(f)\n",
    "os.environ['HUGGINGFACE_HUB_CACHE'] = '/data/llm_models/huggingface/hub'\n",
    "model_path = f'/data/llm_models/{model_name}'\n",
    "if 'models--' in model_name:\n",
    "    fs = f'/data/llm_models/huggingface/hub/{model_name}/snapshots/'\n",
    "    model_path = fs + os.listdir(f'/data/llm_models/huggingface/hub/{model_name}/snapshots/')[0]\n",
    "benchmark_size = 1000\n",
    "tokenizer = AutoTokenizer.from_pretrained(model_path, trust_remote_code=True)\n",
    "model = AutoModelForCausalLM.from_pretrained(model_path, trust_remote_code=True, device_map = \"auto\").eval()"
   ],
   "metadata": {
    "collapsed": false,
    "ExecuteTime": {
     "end_time": "2024-05-08T18:20:26.747096Z",
     "start_time": "2024-05-08T18:20:13.658714Z"
    }
   },
   "id": "7913b565679f184a",
   "execution_count": 1,
   "outputs": []
  },
  {
   "cell_type": "code",
   "source": [
    "\n",
    "import re\n",
    "answer_list = [f['answer'] for f in file_data]\n",
    "answer_list = [re.search(r'\\d+', a).group() for a in answer_list]\n",
    "\n",
    "prompt = \"\"\"Please answer the multiple-choice question to the best of your ability by selecting only one correct option. Indicate your choice by stating the option number only. Begin your response with 'The correct option is,' followed by the number of the option. For example, if you believe the correct answer is option 3, respond with 'The correct option is 3.' If you are unsure, make your best guess and follow the same format. Remember to think through each step before deciding. \\n\\n\"\"\"\n",
    "question = []\n",
    "\n",
    "for f in file_data[:benchmark_size]:\n",
    "    options = ''\n",
    "    for o in f['options']:\n",
    "        options += o + '\\n'\n",
    "    sb = prompt + '\\n Question: \\n' + f['question'] + '\\n Options: \\n' + options + '\\n The correct option is'\n",
    "    question.append(sb)\n",
    "\n",
    "chat_model = ('chat' in model_name) or ('Chat' in model_name)\n",
    "if 'Yi' or 'Qwen' in model_name:\n",
    "    chat_model = False\n",
    "inputs = []\n",
    "tokenizer.pad_token = tokenizer.eos_token\n",
    "if 'struct' or 'it' in model_name:\n",
    "    for q in question:\n",
    "        # q = q['prompt']\n",
    "        a = tokenizer.apply_chat_template([{\"role\": \"user\", \"content\": q}], return_tensors=\"pt\").to(\"cuda\")\n",
    "        inputs.append(a)\n",
    "elif not chat_model:\n",
    "    for q in question:\n",
    "        # q = q['prompt']\n",
    "        a = tokenizer(q, return_tensors=\"pt\", padding=True)\n",
    "        input_ids = a.input_ids.to('cuda')\n",
    "        inputs.append(input_ids)\n",
    "else:\n",
    "    inputs = [q for q in question]\n",
    "\n",
    "print(len(inputs))\n"
   ],
   "metadata": {
    "collapsed": false,
    "ExecuteTime": {
     "end_time": "2024-05-08T18:22:47.316183Z",
     "start_time": "2024-05-08T18:22:46.236751Z"
    }
   },
   "id": "7bd3b66aa7c626ef",
   "execution_count": 4,
   "outputs": []
  },
  {
   "cell_type": "code",
   "source": [
    "inputs[0]"
   ],
   "metadata": {
    "collapsed": false,
    "ExecuteTime": {
     "end_time": "2024-05-08T19:08:00.687684Z",
     "start_time": "2024-05-08T19:08:00.663387Z"
    }
   },
   "id": "9c83fd544c8034b4",
   "execution_count": 8,
   "outputs": []
  },
  {
   "cell_type": "code",
   "source": [
    "from tqdm import tqdm\n",
    "output_list = []\n",
    "\n",
    "temp = 0.1\n",
    "mnt = 15\n",
    "for q in tqdm(inputs[:]):\n",
    "    if chat_model:\n",
    "        try:\n",
    "            if 'Mistral' in model_name:\n",
    "                output_list.append(model.chat(tokenizer, q, do_sample=True, max_new_tokens=mnt, temperature=temp, history=[], eos_token_id=2, pad_token_id=2))\n",
    "            else:\n",
    "                output_list.append(model.chat(tokenizer, q, max_new_tokens=mnt, do_sample=True, temperature=temp, history=[]))\n",
    "        except:\n",
    "            output_list.append(model.generate(q, max_new_tokens=mnt, do_sample=True, temperature=temp))\n",
    "    else:\n",
    "        if 'Mistral' in model_name:\n",
    "            output_list.append(model.generate(q, max_new_tokens=mnt,do_sample=True, temperature=temp, eos_token_id=2, pad_token_id=2))\n",
    "        elif 'llama3-8B' or 'Llama-3' in model_name:\n",
    "            output_list.append(model.generate(q, max_new_tokens=mnt,do_sample=True, temperature=temp, eos_token_id=128001, pad_token_id=128001))\n",
    "        elif 'falcon' in model_name:\n",
    "            output_list.append(model.generate(q, max_new_tokens=mnt,do_sample=True, temperature=temp, eos_token_id=11, pad_token_id=11))\n",
    "        else:\n",
    "            output_list.append(model.generate(q, max_new_tokens=mnt, do_sample=True,temperature=temp))"
   ],
   "metadata": {
    "collapsed": false,
    "ExecuteTime": {
     "end_time": "2024-05-08T18:35:41.770926Z",
     "start_time": "2024-05-08T18:22:51.671087Z"
    }
   },
   "id": "75530b1167ca1982",
   "execution_count": 5,
   "outputs": []
  },
  {
   "cell_type": "code",
   "source": [
    "\n",
    "after = []\n",
    "if not chat_model:\n",
    "    lst = [tokenizer.decode(i[0], skip_special_tokens=True) for i in output_list]\n",
    "    for i, j in zip(lst, question):\n",
    "        after.append(i.replace(j, ''))\n",
    "else:\n",
    "    for i, j in zip(output_list, question):\n",
    "        after.append(i[0].replace(j, ''))\n"
   ],
   "metadata": {
    "collapsed": false,
    "ExecuteTime": {
     "end_time": "2024-05-08T18:35:59.825707Z",
     "start_time": "2024-05-08T18:35:59.572578Z"
    }
   },
   "id": "dcfe2d9444475b2f",
   "execution_count": 6,
   "outputs": []
  },
  {
   "cell_type": "code",
   "source": [
    "after"
   ],
   "metadata": {
    "collapsed": false,
    "ExecuteTime": {
     "end_time": "2024-05-08T18:36:00.636267Z",
     "start_time": "2024-05-08T18:36:00.579869Z"
    }
   },
   "id": "a01389b79cd07620",
   "execution_count": 7,
   "outputs": []
  },
  {
   "cell_type": "code",
   "source": [
    "\n",
    "v_ans = []\n",
    "non_number = 0\n",
    "for o in after:\n",
    "    try:\n",
    "        v_ans.append(re.search(r'\\d+', o).group())\n",
    "    except:\n",
    "        non_number += 1\n",
    "        v_ans.append(\"None\")\n",
    "\n",
    "print(non_number)\n",
    "psd = 0\n",
    "# wrong_list = []\n",
    "from datetime import datetime\n",
    "now = datetime.now()\n",
    "formatted_time = now.strftime(\"%Y%m%d_%H%M%S\")\n",
    "if \"/\" in model_name:\n",
    "    model_name = model_name.split(\"/\")[2]\n",
    "\n",
    "with open(f'result/final_result_{benchmark_size}_{formatted_time}_{model_name}.json', 'w') as jj:\n",
    "    json.dump(after, jj)\n",
    "\n",
    "with open(f'result/final_compare_{benchmark_size}_{formatted_time}_{model_name}.txt', 'w') as results:\n",
    "    for i in range(len(v_ans)):\n",
    "        # print(i)\n",
    "        if v_ans[i] != answer_list[i]:\n",
    "            results.write(str(v_ans[i]) + \"   \"+ str(answer_list[i]))\n",
    "            results.write(\"\\n\")\n",
    "            continue\n",
    "        else:\n",
    "            results.write(\"Right\")\n",
    "            psd+=1\n",
    "            results.write(\"\\n\")\n",
    "\n",
    "accuracy = psd/len(v_ans)\n",
    "print('correct rate: ' + str(psd / len(v_ans)))"
   ],
   "metadata": {
    "collapsed": false,
    "ExecuteTime": {
     "end_time": "2024-05-08T19:09:02.331680Z",
     "start_time": "2024-05-08T19:09:02.309054Z"
    }
   },
   "id": "ad7bf0e6f65c0854",
   "execution_count": 9,
   "outputs": []
  },
  {
   "cell_type": "code",
   "source": [],
   "metadata": {
    "collapsed": false
   },
   "id": "f9591641b1eec740",
   "execution_count": null,
   "outputs": []
  },
  {
   "cell_type": "code",
   "source": [
    "import os, json\n",
    "QnA_dir_path = 'final_1000_0425_human_checked.json'\n",
    "with open(QnA_dir_path, 'r') as f:\n",
    "    file_data = json.load(f)"
   ],
   "metadata": {
    "collapsed": false,
    "ExecuteTime": {
     "end_time": "2024-04-29T16:51:45.543384Z",
     "start_time": "2024-04-29T16:51:45.517172Z"
    }
   },
   "id": "7ab0ad34008920f4",
   "execution_count": 2,
   "outputs": []
  },
  {
   "cell_type": "code",
   "source": [
    "file_data[0]"
   ],
   "metadata": {
    "collapsed": false,
    "ExecuteTime": {
     "end_time": "2024-04-29T16:51:58.821950Z",
     "start_time": "2024-04-29T16:51:58.808990Z"
    }
   },
   "id": "e85239cc1da68805",
   "execution_count": 3,
   "outputs": []
  },
  {
   "cell_type": "code",
   "source": [
    "to_upload = []\n",
    "for i in range(len(file_data)):\n",
    "    to_upload.append({'question': file_data[i]['question'], 'options': file_data[i]['options'], 'answer': file_data[i]['answer'], 'explanation': file_data[i]['explanation']})"
   ],
   "metadata": {
    "collapsed": false,
    "ExecuteTime": {
     "end_time": "2024-04-29T17:12:12.235814Z",
     "start_time": "2024-04-29T17:12:12.225046Z"
    }
   },
   "id": "7cdbc2d603e6515b",
   "execution_count": 7,
   "outputs": []
  },
  {
   "cell_type": "code",
   "source": [
    "to_upload[0]"
   ],
   "metadata": {
    "collapsed": false,
    "ExecuteTime": {
     "end_time": "2024-04-29T17:12:33.421322Z",
     "start_time": "2024-04-29T17:12:33.412306Z"
    }
   },
   "id": "791da404f64f33",
   "execution_count": 9,
   "outputs": []
  },
  {
   "cell_type": "code",
   "source": [
    "with open('ProteinLMBench.json', 'r') as f:\n",
    "    file_data = json.load(f)"
   ],
   "metadata": {
    "collapsed": false,
    "ExecuteTime": {
     "end_time": "2024-04-29T17:38:01.430813Z",
     "start_time": "2024-04-29T17:38:01.417544Z"
    }
   },
   "id": "8cce574485498a2b",
   "execution_count": 21,
   "outputs": []
  },
  {
   "cell_type": "code",
   "source": [
    "bad = []\n",
    "for t in file_data:\n",
    "    if 'options' not in t:\n",
    "        bad.append(t)\n",
    "        continue\n",
    "    for i in range(6):\n",
    "        try:\n",
    "            t[f'option {i+1}'] = t['options'][i][10:]\n",
    "        except IndexError:\n",
    "            continue\n",
    "\n",
    "    # Remove the original 'options' key if it exists\n",
    "    t.pop('options', None)\n"
   ],
   "metadata": {
    "collapsed": false,
    "ExecuteTime": {
     "end_time": "2024-04-29T17:38:04.285446Z",
     "start_time": "2024-04-29T17:38:04.270439Z"
    }
   },
   "id": "c72f564632b851f0",
   "execution_count": 22,
   "outputs": []
  },
  {
   "cell_type": "code",
   "source": [
    "file_data"
   ],
   "metadata": {
    "collapsed": false,
    "ExecuteTime": {
     "end_time": "2024-04-29T17:38:21.058335Z",
     "start_time": "2024-04-29T17:38:20.843966Z"
    }
   },
   "id": "12b7539f38f01052",
   "execution_count": 24,
   "outputs": []
  },
  {
   "cell_type": "code",
   "source": [
    "import pandas as pd\n",
    "df = pd.DataFrame(file_data)\n",
    "\n",
    "# Convert DataFrame to CSV file\n",
    "df.to_csv('ProteinLMBench.csv', index=False)\n"
   ],
   "metadata": {
    "collapsed": false,
    "ExecuteTime": {
     "end_time": "2024-04-29T17:40:56.752465Z",
     "start_time": "2024-04-29T17:40:56.716289Z"
    }
   },
   "id": "4a8ec640dc6c0b18",
   "execution_count": 26,
   "outputs": []
  },
  {
   "cell_type": "code",
   "source": [
    "c = pd.read_csv('ProteinLMBench.csv')"
   ],
   "metadata": {
    "collapsed": false,
    "ExecuteTime": {
     "end_time": "2024-04-29T17:45:53.165254Z",
     "start_time": "2024-04-29T17:45:53.138877Z"
    }
   },
   "id": "58278b2fa29f330a",
   "execution_count": 29,
   "outputs": []
  },
  {
   "cell_type": "code",
   "source": [
    "new_order = ['question', 'option 1','option 2','option 3', 'option 4','option 5','option 6','answer', 'explanation']\n",
    "# Reorder the columns\n",
    "c = c[new_order]"
   ],
   "metadata": {
    "collapsed": false,
    "ExecuteTime": {
     "end_time": "2024-04-29T17:48:18.654181Z",
     "start_time": "2024-04-29T17:48:18.645437Z"
    }
   },
   "id": "c9df795d51691d8",
   "execution_count": 31,
   "outputs": []
  },
  {
   "cell_type": "code",
   "source": [
    "c"
   ],
   "metadata": {
    "collapsed": false,
    "ExecuteTime": {
     "end_time": "2024-04-29T17:48:21.722680Z",
     "start_time": "2024-04-29T17:48:21.703325Z"
    }
   },
   "id": "6f0f966c5a6c6362",
   "execution_count": 32,
   "outputs": []
  },
  {
   "cell_type": "code",
   "source": [
    "c.to_csv('ProteinLMBench.csv', index=False)"
   ],
   "metadata": {
    "collapsed": false,
    "ExecuteTime": {
     "end_time": "2024-04-29T17:49:36.931330Z",
     "start_time": "2024-04-29T17:49:36.901889Z"
    }
   },
   "id": "308d33401e4318bd",
   "execution_count": 33,
   "outputs": []
  },
  {
   "cell_type": "code",
   "source": [],
   "metadata": {
    "collapsed": false
   },
   "id": "f51674d5e77d95b1",
   "execution_count": null,
   "outputs": []
  }
 ],
 "metadata": {
  "kernelspec": {
   "display_name": "Python 3",
   "language": "python",
   "name": "python3"
  },
  "language_info": {
   "codemirror_mode": {
    "name": "ipython",
    "version": 2
   },
   "file_extension": ".py",
   "mimetype": "text/x-python",
   "name": "python",
   "nbconvert_exporter": "python",
   "pygments_lexer": "ipython2",
   "version": "2.7.6"
  }
 },
 "nbformat": 4,
 "nbformat_minor": 5
}
