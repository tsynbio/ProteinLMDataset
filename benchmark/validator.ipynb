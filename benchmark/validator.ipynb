{
 "cells": [
  {
   "cell_type": "code",
   "source": [
    "import csv\n",
    "import json"
   ],
   "metadata": {
    "collapsed": false
   },
   "id": "24ab0a1b62dbe3f5",
   "outputs": [],
   "execution_count": null
  },
  {
   "cell_type": "code",
   "id": "initial_id",
   "metadata": {
    "collapsed": true
   },
   "source": [
    "pmc_id_list = []\n",
    "\n",
    "with open('./pubmed_pmc.csv') as pmc:\n",
    "    reader = csv.reader(pmc)\n",
    "    for row in reader:\n",
    "        # check pmc_row data\n",
    "        if row[1] != 'False':\n",
    "            pmc_id_list.append(row[1])\n"
   ],
   "outputs": [],
   "execution_count": null
  },
  {
   "cell_type": "code",
   "source": [
    "pmc_id_list"
   ],
   "metadata": {
    "collapsed": false
   },
   "id": "c45382dd947a0076",
   "outputs": [],
   "execution_count": null
  },
  {
   "cell_type": "code",
   "source": [
    "def get_valid_articles(lst):\n",
    "    rst = []\n",
    "    no_file =[]\n",
    "    for i in lst:\n",
    "        file_pmc_id = i\n",
    "        file_name = 'article_' + file_pmc_id[3:] + '.json'\n",
    "        file_path = '/home/luhan/articles_json/' + file_name\n",
    "\n",
    "        try:\n",
    "            with open(file_path, 'r') as f:\n",
    "                data = json.load(f)\n",
    "        except:\n",
    "            no_file.append(i)\n",
    "            continue\n",
    "        \n",
    "        raw = data.get('full_text')\n",
    "        \n",
    "        if raw is None or len(raw) == 0:\n",
    "            continue\n",
    "        rst.append(i)\n",
    "    return rst, no_file"
   ],
   "metadata": {
    "collapsed": false
   },
   "id": "3bc4ba550737009f",
   "outputs": [],
   "execution_count": null
  },
  {
   "cell_type": "code",
   "source": [
    "valid_pmc_id_list, notfound = get_valid_articles(pmc_id_list)"
   ],
   "metadata": {
    "collapsed": false
   },
   "id": "44bce9ec6f441d8a",
   "outputs": [],
   "execution_count": null
  },
  {
   "cell_type": "code",
   "source": [
    "valid_pmc_id_list"
   ],
   "metadata": {
    "collapsed": false
   },
   "id": "e0578bb117878e21",
   "outputs": [],
   "execution_count": null
  },
  {
   "cell_type": "code",
   "source": [
    "len(notfound)"
   ],
   "metadata": {
    "collapsed": false
   },
   "id": "e48862020d8beb4d",
   "outputs": [],
   "execution_count": null
  },
  {
   "cell_type": "code",
   "source": [
    "len(valid_pmc_id_list)"
   ],
   "metadata": {
    "collapsed": false
   },
   "id": "a22b96a878b18de2",
   "outputs": [],
   "execution_count": null
  },
  {
   "cell_type": "code",
   "source": [
    "pairs_path = '/home/luhan/pairs/QnA_generation_result'"
   ],
   "metadata": {
    "collapsed": false
   },
   "id": "5f8d73c91305b052",
   "outputs": [],
   "execution_count": null
  },
  {
   "cell_type": "code",
   "source": [
    "from json import JSONDecodeError\n",
    "import re\n",
    "\n",
    "def build_pairs():\n",
    "    pairs = []\n",
    "    for i in valid_pmc_id_list:\n",
    "        file_name = 'QnA_generation_' + i + '.json'\n",
    "        file_path = pairs_path + '/' + file_name\n",
    "    \n",
    "        with open(file_path, 'r') as f:\n",
    "            s = f.read()\n",
    "            data = re.sub(r'\\,(?=\\s*?[\\}\\]])', '', s)\n",
    "            data = json.loads(data)\n",
    "            \n",
    "        for indx, d in enumerate(data):\n",
    "            if 'pmc_id' in d and d['pmc_id'] != i[3:]:\n",
    "                print(f'PMC Error: {i}')\n",
    "                print(data)\n",
    "                raise ValueError\n",
    "            else:\n",
    "                d['pmc_id'] = i[3:]\n",
    "                \n",
    "            if 'chunk_id' in d and d['chunk_id'] != indx:\n",
    "                break\n",
    "            else:\n",
    "                d['chunk_id'] = indx\n",
    "        pairs.extend(data)\n",
    "    return pairs"
   ],
   "metadata": {
    "collapsed": false
   },
   "id": "3d146d3d987d2bcd",
   "outputs": [],
   "execution_count": null
  },
  {
   "cell_type": "code",
   "source": [
    "pairs = build_pairs()"
   ],
   "metadata": {
    "collapsed": false
   },
   "id": "a1f47557519040ac",
   "outputs": [],
   "execution_count": null
  },
  {
   "cell_type": "code",
   "source": [
    "with open('valid_pairs.json', 'w') as f:\n",
    "    json.dump(pairs, f)"
   ],
   "metadata": {
    "collapsed": false
   },
   "id": "89fc692a81e91d7b",
   "outputs": [],
   "execution_count": null
  },
  {
   "cell_type": "code",
   "source": [
    "len(pairs)"
   ],
   "metadata": {
    "collapsed": false
   },
   "id": "54524c68aa91a8fb",
   "outputs": [],
   "execution_count": null
  },
  {
   "cell_type": "code",
   "source": [
    "import os\n",
    "\n",
    "# Replace 'your_directory_path' with the path to your target directory\n",
    "directory_path = '/home/luhan/pairs/QnA_generation_result'\n",
    "\n",
    "# List all entries in the given directory\n",
    "entries = os.listdir(directory_path)\n",
    "\n",
    "# Count how many of those entries are files\n",
    "file_count = sum(os.path.isfile(os.path.join(directory_path, entry)) for entry in entries)\n",
    "\n",
    "print(f'There are {file_count} files in the directory.')\n"
   ],
   "metadata": {
    "collapsed": false
   },
   "id": "472decc04a794c2f",
   "outputs": [],
   "execution_count": null
  },
  {
   "cell_type": "code",
   "source": [
    "import os\n",
    "\n",
    "# Replace 'your_directory_path' with the path to your target directory\n",
    "directory_path = '/home/luhan/pairs/QnA_generation_result'\n",
    "\n",
    "# Replace 'your_file_name' with the name of the file you're looking for\n",
    "file_name = 'QnA_generation_PMC4142697.json'\n",
    "\n",
    "# Construct the full file path\n",
    "file_path = os.path.join(directory_path, file_name)\n",
    "\n",
    "# Check if the file exists\n",
    "if os.path.exists(file_path):\n",
    "    print(f\"The file '{file_name}' exists in '{directory_path}'.\")\n",
    "else:\n",
    "    print(f\"The file '{file_name}' does not exist in '{directory_path}'.\")\n"
   ],
   "metadata": {
    "collapsed": false
   },
   "id": "d7eda9704a8adc04",
   "outputs": [],
   "execution_count": null
  },
  {
   "cell_type": "code",
   "source": [],
   "metadata": {
    "collapsed": false
   },
   "id": "f8507d2b4044167d",
   "outputs": [],
   "execution_count": null
  },
  {
   "cell_type": "code",
   "source": [
    "with open('CC_v2.json', 'r') as f:\n",
    "    QnA = json.load(f)"
   ],
   "metadata": {
    "collapsed": false
   },
   "id": "d50e3406ec10178b",
   "outputs": [],
   "execution_count": null
  },
  {
   "cell_type": "code",
   "source": [
    "len(QnA)"
   ],
   "metadata": {
    "collapsed": false
   },
   "id": "4b476df8507daa72",
   "outputs": [],
   "execution_count": null
  },
  {
   "cell_type": "code",
   "source": [
    "with_a = [i for i in QnA if 'A_embeddings' in i]"
   ],
   "metadata": {
    "collapsed": false
   },
   "id": "33b7a3466e22f7a",
   "outputs": [],
   "execution_count": null
  },
  {
   "cell_type": "code",
   "source": [
    "without_a = [i for i in QnA if 'A_embeddings' not in i]"
   ],
   "metadata": {
    "collapsed": false
   },
   "id": "b8522eeaf2e4e9d9",
   "outputs": [],
   "execution_count": null
  },
  {
   "cell_type": "code",
   "source": [
    "len(with_a)"
   ],
   "metadata": {
    "collapsed": false
   },
   "id": "86927af2135c38ff",
   "outputs": [],
   "execution_count": null
  },
  {
   "cell_type": "code",
   "source": [
    "len(without_a)"
   ],
   "metadata": {
    "collapsed": false
   },
   "id": "52593d34a22b0c42",
   "outputs": [],
   "execution_count": null
  },
  {
   "cell_type": "code",
   "source": [
    "without_a[:10]"
   ],
   "metadata": {
    "collapsed": false
   },
   "id": "6f3b5785319dad00",
   "outputs": [],
   "execution_count": null
  },
  {
   "cell_type": "code",
   "source": [
    "type(with_a[0]['A_embeddings'])"
   ],
   "metadata": {
    "collapsed": false
   },
   "id": "446094ee65dbe0cb",
   "outputs": [],
   "execution_count": null
  },
  {
   "cell_type": "code",
   "source": [
    "import numpy as np\n",
    "\n",
    "for qna in with_a:\n",
    "    a_emb = np.array(qna['A_embeddings'])\n",
    "    q_emb = np.array(qna['Q_embeddings'])\n",
    "    n = np.dot(a_emb, q_emb)\n",
    "    qna['similarity'] = n\n"
   ],
   "metadata": {
    "collapsed": false
   },
   "id": "d90cf235d6c43d4b",
   "outputs": [],
   "execution_count": null
  },
  {
   "cell_type": "code",
   "source": [
    "with_a[:10]"
   ],
   "metadata": {
    "collapsed": false
   },
   "id": "d04380ad7f1824ff",
   "outputs": [],
   "execution_count": null
  },
  {
   "cell_type": "code",
   "source": [
    "import numpy as np\n",
    "import matplotlib.pyplot as plt\n",
    "from scipy import stats\n",
    "\n",
    "# Replace 'your_list_of_numbers' with your actual list of numbers\n",
    "your_list_of_numbers = [qna['similarity'] for qna in with_a]\n",
    "data = np.array(your_list_of_numbers)\n",
    "\n",
    "# Compute the PDF using a Gaussian Kernel Density Estimation\n",
    "density = stats.gaussian_kde(data)\n",
    "\n",
    "# Create a range of values for which we'll plot the PDF\n",
    "x = np.linspace(min(data), max(data), 1000)\n",
    "\n",
    "# Plot the PDF\n",
    "plt.plot(x, density(x))\n",
    "plt.title('Probability Density Function')\n",
    "plt.xlabel('Value')\n",
    "plt.ylabel('Density')\n",
    "\n",
    "# Show the plot\n",
    "plt.show()\n"
   ],
   "metadata": {
    "collapsed": false
   },
   "id": "571d47ce90634ae6",
   "outputs": [],
   "execution_count": null
  },
  {
   "cell_type": "code",
   "source": [
    "after_CC = [i for i in with_a if i['similarity'] > 0.75]"
   ],
   "metadata": {
    "collapsed": false
   },
   "id": "726e8bf14ae8c1c",
   "outputs": [],
   "execution_count": null
  },
  {
   "cell_type": "code",
   "source": [
    "len(after_CC)"
   ],
   "metadata": {
    "collapsed": false
   },
   "id": "e0ddb4c85e4bf9fd",
   "outputs": [],
   "execution_count": null
  },
  {
   "cell_type": "code",
   "source": [
    "trial = after_CC[:10][:]"
   ],
   "metadata": {
    "collapsed": false
   },
   "id": "c559783de737c752",
   "outputs": [],
   "execution_count": null
  },
  {
   "cell_type": "code",
   "source": [
    "with open('after_CC.json', 'w') as f:\n",
    "    json.dump(after_CC, f)"
   ],
   "metadata": {
    "collapsed": false
   },
   "id": "271072454692c744",
   "outputs": [],
   "execution_count": null
  },
  {
   "cell_type": "code",
   "source": [
    "with open('after_CC.json', 'r') as f:\n",
    "    after_CC = json.load(f)"
   ],
   "metadata": {
    "collapsed": false
   },
   "id": "ca7f316393eea372",
   "outputs": [],
   "execution_count": null
  },
  {
   "cell_type": "code",
   "source": [
    "import weaviate.classes as wvc\n",
    "import weaviate\n",
    "\n",
    "weaviate.classes.init.Auth.client_password('tiy', 'try.1206')\n",
    "client = weaviate.connect_to_local(\n",
    "    host='localhost',\n",
    "    port=8080,\n",
    "    grpc_port=50051,\n",
    "\n",
    ")\n",
    "collection = client.collections.get('validation')"
   ],
   "metadata": {
    "collapsed": false
   },
   "id": "f8c3990e5db14377",
   "outputs": [],
   "execution_count": null
  },
  {
   "cell_type": "code",
   "source": [
    "import re\n",
    "from tqdm import tqdm"
   ],
   "metadata": {
    "collapsed": false
   },
   "id": "26b378760a286420",
   "outputs": [],
   "execution_count": null
  },
  {
   "cell_type": "code",
   "source": [
    "rst = []\n",
    "for qa in tqdm(trial):\n",
    "    ans = re.search(r'\\d+', qa['answer'])\n",
    "    ans_index = int(ans.group()) - 1\n",
    "    ans_exp = qa['options'][ans_index] + ' ' + qa['explanation']\n",
    "    response = collection.query.hybrid(\n",
    "        query=ans_exp,\n",
    "        filters=wvc.query.Filter.by_property(\"collection_id\").equal('PMC' + qa['pmc_id']) \n",
    "                & wvc.query.Filter.by_property(\"chunk_id\").equal(qa['chunk_id']),\n",
    "        fusion_type=wvc.query.HybridFusion.RELATIVE_SCORE,\n",
    "        alpha=0.8,\n",
    "        vector=qa['A_embeddings'],\n",
    "        query_properties=[\"text\"],\n",
    "        return_metadata=wvc.query.MetadataQuery(score=True, explain_score=True),\n",
    "        limit=1\n",
    "    )\n",
    "    qa['matched_text'] = response.objects[0].properties['text']\n",
    "    qa['matched_score'] = response.objects[0].metadata.score\n",
    "    rst.append(qa)"
   ],
   "metadata": {
    "collapsed": false
   },
   "id": "19473e7951f6fa74",
   "outputs": [],
   "execution_count": null
  },
  {
   "cell_type": "code",
   "source": [
    "haha = [{k: item[k] for k in ['question', 'answer', 'options', 'explanation', 'matched_text', 'matched_score', 'pmc_id', 'chunk_id']} for item in rst]\n"
   ],
   "metadata": {
    "collapsed": false
   },
   "id": "c979e70d86edfa40",
   "outputs": [],
   "execution_count": null
  },
  {
   "cell_type": "code",
   "source": [
    "with open('haha.json', 'w') as f:\n",
    "    json.dump(haha, f)"
   ],
   "metadata": {
    "collapsed": false
   },
   "id": "f6f0608e10d83ece",
   "outputs": [],
   "execution_count": null
  },
  {
   "cell_type": "code",
   "source": [
    "with open('../with_text_and_score.json', 'r') as f:\n",
    "    qq = json.load(f)"
   ],
   "metadata": {
    "collapsed": false
   },
   "id": "9917d1ecfe1bc589",
   "outputs": [],
   "execution_count": null
  },
  {
   "cell_type": "code",
   "source": [
    "qq[0]"
   ],
   "metadata": {
    "collapsed": false
   },
   "id": "4467bcd3cd0f9c0c",
   "outputs": [],
   "execution_count": null
  },
  {
   "cell_type": "code",
   "source": [
    "import os\n",
    "os.getcwd()"
   ],
   "metadata": {
    "collapsed": false
   },
   "id": "6ad95eac3491988a",
   "outputs": [],
   "execution_count": null
  },
  {
   "cell_type": "code",
   "source": [
    "len(qq)"
   ],
   "metadata": {
    "collapsed": false
   },
   "id": "326bcdd863ca514e",
   "outputs": [],
   "execution_count": null
  },
  {
   "cell_type": "code",
   "source": [
    "qq[0]"
   ],
   "metadata": {
    "collapsed": false
   },
   "id": "97015b107af02686",
   "outputs": [],
   "execution_count": null
  },
  {
   "cell_type": "code",
   "source": [
    "import numpy as np\n",
    "import matplotlib.pyplot as plt\n",
    "from scipy import stats\n",
    "\n",
    "# Replace 'your_list_of_numbers' with your actual list of numbers\n",
    "your_list_of_numbers = [qna['total_score'] for qna in qq]\n",
    "data = np.array(your_list_of_numbers)\n",
    "\n",
    "# Compute the PDF using a Gaussian Kernel Density Estimation\n",
    "density = stats.gaussian_kde(data)\n",
    "\n",
    "# Create a range of values for which we'll plot the PDF\n",
    "x = np.linspace(min(data), max(data), 1000)\n",
    "\n",
    "# Plot the PDF\n",
    "plt.plot(x, density(x))\n",
    "plt.title('Probability Density Function')\n",
    "plt.xlabel('Value')\n",
    "plt.ylabel('Density')\n",
    "\n",
    "# Show the plot\n",
    "plt.show()\n"
   ],
   "metadata": {
    "collapsed": false
   },
   "id": "e7579c88f2d65e53",
   "outputs": [],
   "execution_count": null
  },
  {
   "cell_type": "code",
   "source": [
    "for k in qq:\n",
    "    k['total_score'] = (k['matched_score'] + k['similarity']) / 2"
   ],
   "metadata": {
    "collapsed": false
   },
   "id": "e52085cdd6e04155",
   "outputs": [],
   "execution_count": null
  },
  {
   "cell_type": "code",
   "source": [
    "sorted_qna = sorted(qq, key=lambda x: x['total_score'])"
   ],
   "metadata": {
    "collapsed": false
   },
   "id": "896baf0788fd7be6",
   "outputs": [],
   "execution_count": null
  },
  {
   "cell_type": "code",
   "source": [
    "sorted_qna[0]"
   ],
   "metadata": {
    "collapsed": false
   },
   "id": "9faff41710b62bad",
   "outputs": [],
   "execution_count": null
  },
  {
   "cell_type": "code",
   "source": [
    "def divide_list_into_four_parts(lst, n):\n",
    "    # Calculate the length of each part\n",
    "    part_length = len(lst) // n\n",
    "\n",
    "    # Calculate the number of parts that will have an extra element\n",
    "    extra_elements = len(lst) % n\n",
    "\n",
    "    parts = []\n",
    "    start_index = 0\n",
    "\n",
    "    # Create 4 parts\n",
    "    for i in range(n):\n",
    "        # Calculate end index for the current part\n",
    "        # Add an extra element to the first 'extra_elements' parts\n",
    "        end_index = start_index + part_length + (1 if i < extra_elements else 0)\n",
    "\n",
    "        # Slice the list from start_index to end_index and add to the parts list\n",
    "        parts.append(lst[start_index:end_index])\n",
    "\n",
    "        # Update the start_index for the next part\n",
    "        start_index = end_index\n",
    "\n",
    "    return parts\n"
   ],
   "metadata": {
    "collapsed": false
   },
   "id": "6f7cd927154d3083",
   "outputs": [],
   "execution_count": null
  },
  {
   "cell_type": "code",
   "source": [
    "parts = divide_list_into_four_parts(sorted_qna, 10)"
   ],
   "metadata": {
    "collapsed": false
   },
   "id": "7816197787fe46f2",
   "outputs": [],
   "execution_count": null
  },
  {
   "cell_type": "code",
   "source": [
    "len(parts[0])"
   ],
   "metadata": {
    "collapsed": false
   },
   "id": "37f3d64c4af3cb57",
   "outputs": [],
   "execution_count": null
  },
  {
   "cell_type": "code",
   "source": [
    "# Assuming list1, list2, list3, and list4 are your four lists\n",
    "\n",
    "def get_boundaries(lst):\n",
    "    if lst:  # Check if the list is not empty\n",
    "        # The first element's total_score\n",
    "        start_value = lst[0]['total_score']\n",
    "        # The last element's total_score\n",
    "        end_value = lst[-1]['total_score']\n",
    "        return start_value, end_value\n",
    "    else:\n",
    "        return None, None  # In case the list is empty\n",
    "\n",
    "# Get boundary values for each list\n",
    "boundaries_list1 = get_boundaries(parts[0])\n",
    "boundaries_list2 = get_boundaries(parts[1])\n",
    "boundaries_list3 = get_boundaries(parts[2])\n",
    "boundaries_list4 = get_boundaries(parts[3])\n",
    "\n",
    "\n",
    "# Print the boundary values\n",
    "print(f\"List 1 Boundaries: {boundaries_list1}\")\n",
    "print(f\"List 2 Boundaries: {boundaries_list2}\")\n",
    "print(f\"List 3 Boundaries: {boundaries_list3}\")\n",
    "print(f\"List 4 Boundaries: {boundaries_list4}\")\n"
   ],
   "metadata": {
    "collapsed": false
   },
   "id": "8f67dbe01a1b87ab",
   "outputs": [],
   "execution_count": null
  },
  {
   "cell_type": "code",
   "source": [
    "for p in parts:\n",
    "    for pr in p:\n",
    "        del pr['similarity']\n",
    "        del pr['matched_score']\n",
    "        del pr['A_embeddings']\n",
    "        del pr['Q_embeddings']"
   ],
   "metadata": {
    "collapsed": false
   },
   "id": "49c8422bb1dc8da9",
   "outputs": [],
   "execution_count": null
  },
  {
   "cell_type": "code",
   "source": [
    "len(parts)"
   ],
   "metadata": {
    "collapsed": false
   },
   "id": "4f88c7fbeb931c65",
   "outputs": [],
   "execution_count": null
  },
  {
   "cell_type": "code",
   "source": [
    "with open('../complete_questions.json', 'w') as f:\n",
    "    json.dump(parts, f)"
   ],
   "metadata": {
    "collapsed": false
   },
   "id": "f17ac0f81a0cb24a",
   "outputs": [],
   "execution_count": null
  },
  {
   "cell_type": "code",
   "source": [
    "import random\n",
    "\n",
    "rst = []\n",
    "\n",
    "for i in range(4):\n",
    "    drawn_elements = random.sample(parts[i], 250)\n",
    "    rst.extend(drawn_elements)"
   ],
   "metadata": {
    "collapsed": false
   },
   "id": "66cda659df569f2e",
   "outputs": [],
   "execution_count": null
  },
  {
   "cell_type": "code",
   "source": [
    "len(rst)"
   ],
   "metadata": {
    "collapsed": false
   },
   "id": "468013e25231cea6",
   "outputs": [],
   "execution_count": null
  },
  {
   "cell_type": "code",
   "source": [
    "haha = [{k: item[k] for k in ['question', 'answer', 'options', 'explanation', 'matched_text', 'total_score', 'pmc_id', 'chunk_id']} for item in rst]"
   ],
   "metadata": {
    "collapsed": false
   },
   "id": "bd93c4d6d17f75ec",
   "outputs": [],
   "execution_count": null
  },
  {
   "cell_type": "code",
   "source": [
    "with open('final_1000.json', 'w') as f:\n",
    "    json.dump(haha, f)"
   ],
   "metadata": {
    "collapsed": false
   },
   "id": "8bdfb3d9fb12ed60",
   "outputs": [],
   "execution_count": null
  }
 ],
 "metadata": {
  "kernelspec": {
   "display_name": "Python 3",
   "language": "python",
   "name": "python3"
  },
  "language_info": {
   "codemirror_mode": {
    "name": "ipython",
    "version": 2
   },
   "file_extension": ".py",
   "mimetype": "text/x-python",
   "name": "python",
   "nbconvert_exporter": "python",
   "pygments_lexer": "ipython2",
   "version": "2.7.6"
  }
 },
 "nbformat": 4,
 "nbformat_minor": 5
}
