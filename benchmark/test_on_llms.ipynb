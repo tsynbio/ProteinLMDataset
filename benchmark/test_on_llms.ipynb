{
 "cells": [
  {
   "cell_type": "code",
   "id": "initial_id",
   "metadata": {
    "collapsed": true
   },
   "source": [
    "import os, json, random\n",
    "\n",
    "QnA_dir_path = '17000_validated.json'\n",
    "with open(QnA_dir_path, 'r') as f:\n",
    "    file_data = json.load(f)"
   ],
   "outputs": [],
   "execution_count": null
  },
  {
   "cell_type": "code",
   "id": "9a1b92a95af6aed9",
   "metadata": {
    "collapsed": false
   },
   "source": [
    "from transformers import AutoTokenizer, AutoModelForCausalLM\n",
    "import os\n",
    "os.environ['HUGGINGFACE_HUB_CACHE'] = \"/data/llm_models/huggingface/hub\""
   ],
   "outputs": [],
   "execution_count": null
  },
  {
   "cell_type": "code",
   "source": [
    "# defect = []\n",
    "# def shuffle(data):\n",
    "#     try:\n",
    "#         corr = data['options'][int(re.search(r'\\d+', data['answer']).group()) - 1].split(': ', 1)[1]\n",
    "#     except Exception:\n",
    "#         defect.append(data)\n",
    "#         return\n",
    "# \n",
    "#     # Shuffle the options\n",
    "#     random.shuffle(data['options'])\n",
    "#     \n",
    "#     # Reassign option numbers based on new order\n",
    "#     data['options'] = [f'option {i + 1}: {opt.split(\": \", 1)[1]}' for i, opt in\n",
    "#                        enumerate(data['options'])]\n",
    "#     \n",
    "#     # Update the answer to reflect the new position of the correct option\n",
    "#     for i, option in enumerate(data['options'], start=1):\n",
    "#         if corr in option:\n",
    "#             data['answer'] = f'option {i}'\n",
    "#             break\n",
    "\n",
    "# for jib in file_data:\n",
    "#     shuffle(jib)\n",
    "# len(defect)"
   ],
   "metadata": {
    "collapsed": false
   },
   "id": "50c438f3edb16d28",
   "outputs": [],
   "execution_count": null
  },
  {
   "cell_type": "code",
   "source": [
    "file_data = file_data[:1000]"
   ],
   "metadata": {
    "collapsed": false
   },
   "id": "a0af97c52678e08a",
   "outputs": [],
   "execution_count": null
  },
  {
   "cell_type": "code",
   "source": [
    "file_data"
   ],
   "metadata": {
    "collapsed": false
   },
   "id": "6aa0aea03b8246f1",
   "outputs": [],
   "execution_count": null
  },
  {
   "cell_type": "code",
   "id": "d9f1ed6d2bdf091e",
   "metadata": {
    "collapsed": false
   },
   "source": [
    "model_name = '/data/llm_models/internlm2-7b-0410-ssl+sft'\n",
    "tokenizer = AutoTokenizer.from_pretrained(model_name, trust_remote_code=True)\n",
    "model = AutoModelForCausalLM.from_pretrained(model_name, trust_remote_code=True, device_map = \"auto\").eval()"
   ],
   "outputs": [],
   "execution_count": null
  },
  {
   "cell_type": "code",
   "id": "24be792789c9c791",
   "metadata": {
    "collapsed": false
   },
   "source": [
    "prompt = \"\"\"Please answer the following multiple-choice question.\n",
    "Select only ONE correct option by its number. Start your response with 'The correct option is' followed by the option number ONLY. eg: \"The correct option is Option X.\"\n",
    "Do not include ANY justification, additional information, restatements of the options, or list multiple options as correct.\"\"\""
   ],
   "outputs": [],
   "execution_count": null
  },
  {
   "cell_type": "code",
   "source": [
    "file_data"
   ],
   "metadata": {
    "collapsed": false
   },
   "id": "8fe847a668d414cf",
   "outputs": [],
   "execution_count": null
  },
  {
   "cell_type": "code",
   "id": "3b0c33b8cc664afe",
   "metadata": {
    "collapsed": false
   },
   "source": [
    "import re\n",
    "answer_list = [f['answer'] for f in file_data]\n",
    "answer_list = [re.search(r'\\d+', a).group() for a in answer_list]"
   ],
   "outputs": [],
   "execution_count": null
  },
  {
   "cell_type": "code",
   "source": [
    "# answer_list = [q['completion'] for q in ques]"
   ],
   "metadata": {
    "collapsed": false
   },
   "id": "f1279d3d13aac07b",
   "outputs": [],
   "execution_count": null
  },
  {
   "cell_type": "code",
   "id": "742fec2a3464ff93",
   "metadata": {
    "collapsed": false
   },
   "source": [
    "question = []\n",
    "for f in file_data:\n",
    "    options = ''\n",
    "    for o in f['options']:\n",
    "        options += o + '\\n'\n",
    "    sb = prompt + '\\n question: ' + f['question'] + '\\n options: ' + options + 'The correct option number is:'\n",
    "    question.append(sb)"
   ],
   "outputs": [],
   "execution_count": null
  },
  {
   "cell_type": "code",
   "id": "e5129a62bb663c25",
   "metadata": {
    "collapsed": false
   },
   "source": [
    "inputs = []\n",
    "# for q in ques:    \n",
    "for q in question:\n",
    "    a = tokenizer(q, return_tensors=\"pt\", padding=True)\n",
    "    input_ids = a.input_ids.to('cuda')\n",
    "    inputs.append(input_ids)\n",
    "# tokenizer.pad_token = tokenizer.eos_token"
   ],
   "outputs": [],
   "execution_count": null
  },
  {
   "cell_type": "code",
   "source": [
    "len(inputs)"
   ],
   "metadata": {
    "collapsed": false
   },
   "id": "ada7676b5554c041",
   "outputs": [],
   "execution_count": null
  },
  {
   "cell_type": "code",
   "id": "31fe11074259ce99",
   "metadata": {
    "collapsed": false
   },
   "source": [
    "from tqdm import tqdm\n",
    "output_list = []\n",
    "for q in tqdm(inputs[:]):\n",
    "    output_list.append(model.generate(q, max_new_tokens=10))"
   ],
   "outputs": [],
   "execution_count": null
  },
  {
   "cell_type": "code",
   "id": "f1c6ad65ee41e9",
   "metadata": {
    "collapsed": false
   },
   "source": "lst = [tokenizer.decode(i[0], skip_special_tokens=True) for i in output_list]",
   "outputs": [],
   "execution_count": null
  },
  {
   "cell_type": "code",
   "id": "f982c22156f36a3a",
   "metadata": {
    "collapsed": false
   },
   "source": [
    "output_list = lst"
   ],
   "outputs": [],
   "execution_count": null
  },
  {
   "cell_type": "code",
   "id": "aaf278975b4a8aec",
   "metadata": {
    "collapsed": false
   },
   "source": [
    "after = []\n",
    "for i, j in zip(output_list, question):\n",
    "# for i, j in zip(output_list, question):\n",
    "    after.append(i.replace(j, ''))\n",
    "    # after.append(i.replace(j, ''))\n",
    "    "
   ],
   "outputs": [],
   "execution_count": null
  },
  {
   "cell_type": "code",
   "id": "8e2718cd38baafa2",
   "metadata": {
    "collapsed": false
   },
   "source": [
    "import re\n",
    "organized_output_list = []\n",
    "for i in after:\n",
    "    temp = re.search(r'\\d+', i)\n",
    "    if temp:\n",
    "        organized_output_list.append(temp.group())\n",
    "    else:\n",
    "        organized_output_list.append('x')\n",
    "#     "
   ],
   "outputs": [],
   "execution_count": null
  },
  {
   "cell_type": "code",
   "source": [
    "# import re\n",
    "# organized_output_list = []\n",
    "# for i in after:  # Assuming 'after' is a list of strings you're iterating through\n",
    "#     if ('A) no' or 'B) yes') in i:\n",
    "#         organized_output_list.append('x')\n",
    "#         continue\n",
    "# \n",
    "#     if 'Answer' in i:\n",
    "#         index = i.find('Answer') + len('Answer')\n",
    "#         i = i[index:].strip()\n",
    "#     # if 'The' in i:\n",
    "#     #     index = i.find('The') + len('The')\n",
    "#     #     i = i[index:].strip()\n",
    "#     temp = re.search(r'[A-Z]', i)  # This regex matches the first uppercase letter\n",
    "#     if temp:\n",
    "#         organized_output_list.append(temp.group())  # Append the first uppercase letter found\n",
    "#     else:\n",
    "#         organized_output_list.append('x')  # Append 'x' if no uppercase letter is found\n"
   ],
   "metadata": {
    "collapsed": false
   },
   "id": "6bf8460908dbff06",
   "outputs": [],
   "execution_count": null
  },
  {
   "cell_type": "code",
   "id": "1359eb8cb625064e",
   "metadata": {
    "collapsed": false
   },
   "source": [
    "num_correct = 0\n",
    "for i in range(len(organized_output_list)):\n",
    "    if organized_output_list[i] == answer_list[i]:\n",
    "        num_correct += 1\n",
    "    # else:\n",
    "    #     print(file_data[i]['answer'], after[i])"
   ],
   "outputs": [],
   "execution_count": null
  },
  {
   "cell_type": "code",
   "id": "d73d78807d4d64c5",
   "metadata": {
    "collapsed": false
   },
   "source": [
    "num_correct / 1000"
   ],
   "outputs": [],
   "execution_count": null
  }
 ],
 "metadata": {
  "kernelspec": {
   "display_name": "Python 3",
   "language": "python",
   "name": "python3"
  },
  "language_info": {
   "codemirror_mode": {
    "name": "ipython",
    "version": 2
   },
   "file_extension": ".py",
   "mimetype": "text/x-python",
   "name": "python",
   "nbconvert_exporter": "python",
   "pygments_lexer": "ipython2",
   "version": "2.7.6"
  }
 },
 "nbformat": 4,
 "nbformat_minor": 5
}
